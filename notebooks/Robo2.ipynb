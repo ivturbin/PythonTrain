{
 "cells": [
  {
   "cell_type": "code",
   "execution_count": 5,
   "metadata": {
    "collapsed": true
   },
   "outputs": [],
   "source": [
    "import math\n",
    "r = 0.2 # плечо\n",
    "F1 = 5\n",
    "F2 = 5\n",
    "B = 1500000000  # упругость жидкости?"
   ]
  },
  {
   "cell_type": "markdown",
   "source": [
    "$\\huge{\\dot{y} = \\dot{q}*r}$"
   ],
   "metadata": {
    "collapsed": false,
    "pycharm": {
     "name": "#%% md\n"
    }
   }
  },
  {
   "cell_type": "code",
   "execution_count": 2,
   "outputs": [],
   "source": [
    "def dy(dq: float) :\n",
    "    return dq*r"
   ],
   "metadata": {
    "collapsed": false,
    "pycharm": {
     "name": "#%%\n"
    }
   }
  },
  {
   "cell_type": "markdown",
   "source": [
    "$\\huge R_{тр} = \\dot{y} * r$"
   ],
   "metadata": {
    "collapsed": false,
    "pycharm": {
     "name": "#%% md\n"
    }
   }
  },
  {
   "cell_type": "code",
   "execution_count": 3,
   "outputs": [],
   "source": [
    "def Rtr(dy: float) :\n",
    "    k_tr = 0.7\n",
    "    return dy*k_tr"
   ],
   "metadata": {
    "collapsed": false,
    "pycharm": {
     "name": "#%%\n"
    }
   }
  },
  {
   "cell_type": "markdown",
   "source": [
    "<p>$\\huge Q = \\mu*\\pi*d_{золотника}*k_{полноты}*х_{золотника} * \\sqrt{\\frac{2}{\\rho}} * \\sqrt{\\Delta P_{дросселя}} * sign(P)$</p>\n",
    "$\\normalsize где \\mu - коэффициент расхода,$\n",
    "$\\rho = 890$"
   ],
   "metadata": {
    "collapsed": false,
    "pycharm": {
     "name": "#%% md\n"
    }
   }
  },
  {
   "cell_type": "code",
   "execution_count": 7,
   "outputs": [],
   "source": [
    "Ppit = 2000000\n",
    "Psl = 100000\n",
    "mu = 0.9\n",
    "rho = 890\n",
    "pi = 3.14"
   ],
   "metadata": {
    "collapsed": false,
    "pycharm": {
     "name": "#%%\n"
    }
   }
  },
  {
   "cell_type": "code",
   "execution_count": 8,
   "outputs": [],
   "source": [
    "def Q1(x_zol: float, P1: float) :\n",
    "    d_zol = 1\n",
    "    k_pol = 0.9\n",
    "    if x_zol > 0:\n",
    "        return mu*pi*d_zol*k_pol*x_zol*math.sqrt(2/rho) * math.sqrt(math.fabs(Ppit - P1)) * (1 if (Ppit - P1)>0 else -1)\n",
    "    else:\n",
    "        return mu*pi*d_zol*k_pol*x_zol*math.sqrt(2/rho) * math.sqrt(math.fabs(P1 - Psl)) * (1 if (P1 - Psl)>0 else -1)"
   ],
   "metadata": {
    "collapsed": false,
    "pycharm": {
     "name": "#%%\n"
    }
   }
  },
  {
   "cell_type": "code",
   "execution_count": null,
   "outputs": [],
   "source": [
    "def Q2(x_zol: float, P2: float) :\n",
    "    d_zol = 1\n",
    "    k_pol = 0.9\n",
    "    if x_zol > 0:\n",
    "        return mu*pi*d_zol*k_pol*x_zol*math.sqrt(2/rho) * math.sqrt(math.fabs(P2 - Psl)) * (1 if (P2 - Psl)>0 else -1)\n",
    "    else:\n",
    "        return mu*pi*d_zol*k_pol*x_zol*math.sqrt(2/rho) * math.sqrt(math.fabs(Ppit - P2)) * (1 if (Ppit - P2)>0 else -1)"
   ],
   "metadata": {
    "collapsed": false,
    "pycharm": {
     "name": "#%%\n"
    }
   }
  }
 ],
 "metadata": {
  "kernelspec": {
   "display_name": "Python 3",
   "language": "python",
   "name": "python3"
  },
  "language_info": {
   "codemirror_mode": {
    "name": "ipython",
    "version": 2
   },
   "file_extension": ".py",
   "mimetype": "text/x-python",
   "name": "python",
   "nbconvert_exporter": "python",
   "pygments_lexer": "ipython2",
   "version": "2.7.6"
  }
 },
 "nbformat": 4,
 "nbformat_minor": 0
}