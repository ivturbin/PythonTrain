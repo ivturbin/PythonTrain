{
 "cells": [
  {
   "cell_type": "code",
   "execution_count": 1,
   "id": "a33b6ea1",
   "metadata": {},
   "outputs": [],
   "source": [
    "import numpy as np"
   ]
  },
  {
   "cell_type": "code",
   "execution_count": 4,
   "id": "09b7848f",
   "metadata": {},
   "outputs": [
    {
     "name": "stdout",
     "output_type": "stream",
     "text": [
      "[[ 60 100]\n",
      " [100  80]]\n"
     ]
    }
   ],
   "source": [
    "#Исходы игр A и B\n",
    "a1b1 = 60\n",
    "a1b2 = 100\n",
    "a2b1 = 100\n",
    "a2b2 = 80\n",
    "\n",
    "matrix = np.array([(a1b1, a1b2), (a2b1, a2b2)])\n",
    "print(matrix)"
   ]
  },
  {
   "cell_type": "code",
   "execution_count": 8,
   "id": "6aba4a3a",
   "metadata": {},
   "outputs": [
    {
     "name": "stdout",
     "output_type": "stream",
     "text": [
      "Седловых точек нет\n"
     ]
    }
   ],
   "source": [
    "#Определение седловой точки\n",
    "\n",
    "#Максимумы для A\n",
    "max1 = max(a1b1, a2b1)\n",
    "max2 = max(a1b2, a2b2)\n",
    "\n",
    "#Минимумы для В\n",
    "min1 = min(a1b1, a1b2)\n",
    "min2 = min(a2b1, a2b2)\n",
    "\n",
    "if min1 == max1 or min1 == max2 or min2 == max2 or min2 == max2:\n",
    "    print('Есть седловая точка')\n",
    "else:\n",
    "    print('Седловых точек нет')\n",
    "    "
   ]
  },
  {
   "cell_type": "code",
   "execution_count": 10,
   "id": "2abe56bd",
   "metadata": {},
   "outputs": [
    {
     "name": "stdout",
     "output_type": "stream",
     "text": [
      "Относительная частота применения первой стратегии А: 20\n",
      "Относительная частота применения второй стратегии А: 40\n",
      "Вероятность применения первой стратегии должна составлять: 0.6666666666666666\n"
     ]
    }
   ],
   "source": [
    "#Поиск относительных частот для А\n",
    "\n",
    "a1 = abs(a1b1-a1b2)\n",
    "a2 = abs(a2b1-a2b2)\n",
    "a1_probability = a1/(a1+a2)\n",
    "\n",
    "print('Относительная частота применения первой стратегии А:', a2)\n",
    "print('Относительная частота применения второй стратегии А:', a1)\n",
    "print('Вероятность применения первой стратегии должна составлять:', a1_probability)"
   ]
  },
  {
   "cell_type": "code",
   "execution_count": 11,
   "id": "cde1711b",
   "metadata": {},
   "outputs": [
    {
     "name": "stdout",
     "output_type": "stream",
     "text": [
      "Относительная частота применения первой стратегии B: 20\n",
      "Относительная частота применения второй стратегии B: 40\n",
      "Вероятность применения первой стратегии должна составлять: 0.6666666666666666\n"
     ]
    }
   ],
   "source": [
    "#Поиск относительных частот для В\n",
    "\n",
    "b1 = abs(a1b1-a2b1)\n",
    "b2 = abs(a1b2-a2b2)\n",
    "b1_probability = b1/(b1+b2)\n",
    "\n",
    "print('Относительная частота применения первой стратегии B:', a2)\n",
    "print('Относительная частота применения второй стратегии B:', a1)\n",
    "print('Вероятность применения первой стратегии должна составлять:', a1_probability)"
   ]
  },
  {
   "cell_type": "code",
   "execution_count": 12,
   "id": "acf71950",
   "metadata": {},
   "outputs": [
    {
     "name": "stdout",
     "output_type": "stream",
     "text": [
      "86.66666666666667 86.66666666666667\n"
     ]
    }
   ],
   "source": [
    "#Определяем и перепроверяем цену игры для стратегий А\n",
    "\n",
    "a11 = (a1b1*a2+a1b2*a1)/(a1+a2)\n",
    "a22 = (a1b2*a2+a2b2*a1)/(a1+a2)\n",
    "print(a11, a22)"
   ]
  },
  {
   "cell_type": "code",
   "execution_count": 13,
   "id": "b99d8405",
   "metadata": {},
   "outputs": [
    {
     "name": "stdout",
     "output_type": "stream",
     "text": [
      "86.66666666666667 86.66666666666667\n"
     ]
    }
   ],
   "source": [
    "#Определяем и перепроверяем цену игры для стратегий B\n",
    "\n",
    "b11 = (a1b1*b2+a1b2*b1)/(b1+b2)\n",
    "b22 = (a2b1*b2+a2b2*b1)/(b1+b2)\n",
    "print(b11, b22)"
   ]
  },
  {
   "cell_type": "code",
   "execution_count": 20,
   "id": "86e177d9",
   "metadata": {},
   "outputs": [
    {
     "name": "stdout",
     "output_type": "stream",
     "text": [
      "Решение игры, заданной матрицей\n",
      " [[ 60 100]\n",
      " [100  80]]\n",
      "Для А оптимальное сочетание стратегий составляет 20 для первой стратегии и  40 для второй стратегии\n",
      "Вероятность применения первой стратегии А должна составлять 0.6666666666666666\n",
      "Для B оптимальное сочетание стратегий составляет 20 для первой стратегии и  40 для второй стратегии\n",
      "Вероятность применения первой стратегии B должна составлять 0.6666666666666666\n",
      "Стоимость игры составляет 86.66666666666667\n"
     ]
    }
   ],
   "source": [
    "print('Решение игры, заданной матрицей\\n', matrix)\n",
    "print('Для А оптимальное сочетание стратегий составляет', a2, 'для первой стратегии и ', a1, 'для второй стратегии')\n",
    "print('Вероятность применения первой стратегии А должна составлять', a1_probability)\n",
    "print('Для B оптимальное сочетание стратегий составляет', b2, 'для первой стратегии и ', b1, 'для второй стратегии')\n",
    "print('Вероятность применения первой стратегии B должна составлять', b1_probability)\n",
    "print('Стоимость игры составляет', a11)"
   ]
  }
 ],
 "metadata": {
  "kernelspec": {
   "display_name": "Python 3 (ipykernel)",
   "language": "python",
   "name": "python3"
  },
  "language_info": {
   "codemirror_mode": {
    "name": "ipython",
    "version": 3
   },
   "file_extension": ".py",
   "mimetype": "text/x-python",
   "name": "python",
   "nbconvert_exporter": "python",
   "pygments_lexer": "ipython3",
   "version": "3.9.5"
  }
 },
 "nbformat": 4,
 "nbformat_minor": 5
}
