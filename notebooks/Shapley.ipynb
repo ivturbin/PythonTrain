{
 "cells": [
  {
   "cell_type": "code",
   "execution_count": 29,
   "id": "621609b7",
   "metadata": {},
   "outputs": [],
   "source": [
    "#Словарь выигрышей коалиций\n",
    "wins = {\n",
    "    '1': 18,\n",
    "    '2': 12,\n",
    "    '3': 6,\n",
    "    '12': 114,\n",
    "    '13': 108,\n",
    "    '23': 30,\n",
    "    '123': 120\n",
    "}\n",
    "\n",
    "# Количество игроков\n",
    "N = 3 "
   ]
  },
  {
   "cell_type": "code",
   "execution_count": 18,
   "id": "eb85ace4",
   "metadata": {},
   "outputs": [],
   "source": [
    "def fac(n):\n",
    "    if n == 0:\n",
    "        return 1\n",
    "    return fac(n - 1) * n"
   ]
  },
  {
   "cell_type": "code",
   "execution_count": 24,
   "id": "327e3094",
   "metadata": {},
   "outputs": [],
   "source": [
    "#Вычислить выигрыш игрока\n",
    "def player_profit(coalition, player):\n",
    "    with_player = wins.get(coalition)\n",
    "    without_player = wins.get(coalition.replace(str(player), ''), 0)\n",
    "    return with_player - without_player"
   ]
  },
  {
   "cell_type": "code",
   "execution_count": 22,
   "id": "860a870f",
   "metadata": {},
   "outputs": [],
   "source": [
    "#Количество различных вариантов порядка включения игрока в полную коалицию\n",
    "def inclusions_count(n, coalition):\n",
    "    fact_nk = fac(N_COUNT - len(coalition))\n",
    "    fact_k1 = fac(len(coalition) - 1)\n",
    "    fact_n = fac(N_COUNT)\n",
    "    return (fact_nk * fact_k1) / fact_n"
   ]
  },
  {
   "cell_type": "code",
   "execution_count": 30,
   "id": "d698ef7b",
   "metadata": {},
   "outputs": [
    {
     "name": "stdout",
     "output_type": "stream",
     "text": [
      "Получен вектор Шэпли: [70.0, 28.0, 22.0]\n"
     ]
    }
   ],
   "source": [
    "vector = []\n",
    "\n",
    "for i in range(N_COUNT):\n",
    "    value = 0\n",
    "    player = i + 1\n",
    "\n",
    "    for key in wins.keys():\n",
    "        if str(player) in key:\n",
    "            value += inclusions_count(N, key) * player_profit(key, player)\n",
    "    vector.append(value)\n",
    "\n",
    "print(\"Получен вектор Шэпли: \" + str(vector))"
   ]
  }
 ],
 "metadata": {
  "kernelspec": {
   "display_name": "Python 3 (ipykernel)",
   "language": "python",
   "name": "python3"
  },
  "language_info": {
   "codemirror_mode": {
    "name": "ipython",
    "version": 3
   },
   "file_extension": ".py",
   "mimetype": "text/x-python",
   "name": "python",
   "nbconvert_exporter": "python",
   "pygments_lexer": "ipython3",
   "version": "3.9.5"
  }
 },
 "nbformat": 4,
 "nbformat_minor": 5
}
